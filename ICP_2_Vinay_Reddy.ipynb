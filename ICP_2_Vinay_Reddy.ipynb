{
  "cells": [
    {
      "cell_type": "code",
      "execution_count": null,
      "metadata": {
        "id": "rbyYzN97IFTi"
      },
      "outputs": [],
      "source": []
    },
    {
      "cell_type": "code",
      "execution_count": null,
      "metadata": {
        "id": "syYT73-nIGKM"
      },
      "outputs": [],
      "source": []
    },
    {
      "cell_type": "markdown",
      "metadata": {
        "id": "iWe8N_SPIO1N"
      },
      "source": [
        "1.1 **Explain the difference between Counter.count and self._count**\n",
        "\n",
        "**Counter.count** is a class variable shared among all instances.\n",
        "\n",
        "**self._count** is an instance variable unique to each object."
      ]
    },
    {
      "cell_type": "markdown",
      "metadata": {
        "id": "9D_veiiPIlBi"
      },
      "source": [
        "**Counter.count**\n",
        "\n",
        "Shared across all instances of the Counter class.\n",
        "\n",
        "There is only one copy of Counter.count in memory, no matter how many objects you create.\n",
        "\n",
        "Used for storing data that is common to all objects, like keeping a global count.\n",
        "\n",
        "You access it using Counter.count or self.__class__.count.\n",
        "\n",
        "\n",
        "\n",
        "**self._count**\n",
        "\n",
        "Belongs only to the specific object (self refers to that object).\n",
        "\n",
        "Each instance has its own separate copy.\n",
        "\n",
        "Used for tracking data specific to one object.\n"
      ]
    },
    {
      "cell_type": "markdown",
      "metadata": {
        "id": "Atm4wP9gJZKj"
      },
      "source": [
        "1.2 What is the output of a.get_counts() and b.get_counts()?\n",
        "\n",
        "a.get_counts()  Instance count: 2, class count: 3\n",
        "b.get_counts()  Instance count: 1, class count: 3"
      ]
    },
    {
      "cell_type": "markdown",
      "metadata": {
        "id": "wUV4WQ89KjKV"
      },
      "source": [
        "1.3 **How does the increment method affect both the class and instance variables?**\n",
        "\n",
        "self._count refers to that particular objects count.\n",
        "\n",
        "It increases only for the object calling the method.\n",
        "\n",
        "Counter.count is shared by all instances of the class.\n",
        "\n",
        "Every time any object calls increment(), this value increases."
      ]
    },
    {
      "cell_type": "code",
      "execution_count": 2,
      "metadata": {
        "colab": {
          "base_uri": "https://localhost:8080/"
        },
        "id": "o6t2ZmA_Lcxt",
        "outputId": "6040f1fc-c3c3-4c22-b916-3ccc3e3ce0ae"
      },
      "outputs": [
        {
          "name": "stdout",
          "output_type": "stream",
          "text": [
            "Sum of 1, 2, 3 is: 6\n",
            "Sum of 4, 5, 6, 7 is: 22\n"
          ]
        }
      ],
      "source": [
        "def sum_all(*args): # In the Question * was missing which tells the number of arguments.\n",
        "    return sum(args)\n",
        "\n",
        "print(\"Sum of 1, 2, 3 is:\", sum_all(1, 2, 3))\n",
        "print(\"Sum of 4, 5, 6, 7 is:\", sum_all(4, 5, 6, 7))"
      ]
    },
    {
      "cell_type": "code",
      "execution_count": null,
      "metadata": {
        "colab": {
          "base_uri": "https://localhost:8080/"
        },
        "id": "DLZouMhZNRiR",
        "outputId": "616f27a2-289e-487a-f5e8-a838d538c9f8"
      },
      "outputs": [
        {
          "name": "stdout",
          "output_type": "stream",
          "text": [
            "Ali\n"
          ]
        }
      ],
      "source": [
        "def first_word(words):\n",
        "    return min(words)\n",
        "\n",
        "\n",
        "Students = ['Mary', 'Zelda', 'Jimmy', 'Jack', 'Bartholomew', 'Gertrude']\n",
        "print(first_word(Students))\n"
      ]
    },
    {
      "cell_type": "code",
      "execution_count": 11,
      "metadata": {
        "colab": {
          "base_uri": "https://localhost:8080/"
        },
        "id": "09QVQtHKNstl",
        "outputId": "c67e6a4c-acbb-4930-f9e1-b1302ed3d639"
      },
      "outputs": [
        {
          "name": "stdout",
          "output_type": "stream",
          "text": [
            "Name: Abhi, Family: Byreddy, Salary: 83000, Department: Engineering\n",
            "Name: Hari, Family: Nalla, Salary: 97000, Department: Digital Marketing\n",
            "This is a full-time employee.\n",
            "Name: Sai, Family: Palla, Salary: 65000, Department: HR\n",
            "Total employees: 3\n",
            "Average salary: 81666.66666666667\n"
          ]
        }
      ],
      "source": [
        "class Employee:\n",
        "    # to count number of employees\n",
        "    employee_count = 0\n",
        "    salary_list = []\n",
        "\n",
        "    # creating constructor to initialize name, family, salary, department\n",
        "    def __init__(self, name, family, salary, department):\n",
        "        self.name = name\n",
        "        self.family = family\n",
        "        self.salary = salary\n",
        "        self.department = department\n",
        "\n",
        "        # Update class variables\n",
        "        Employee.employee_count += 1\n",
        "        Employee.salary_list.append(salary)\n",
        "\n",
        "    # Creating  a function to average salary\n",
        "    @classmethod\n",
        "    def avg_salary(cls):\n",
        "        if cls.salary_list:\n",
        "            return sum(cls.salary_list) / len(cls.salary_list)\n",
        "        else:\n",
        "            return 0\n",
        "\n",
        "    def display_info(self):\n",
        "        print(f\"Name: {self.name}, Family: {self.family}, Salary: {self.salary}, Department: {self.department}\")\n",
        "\n",
        "\n",
        "# Creating a Fulltime Employee class and it should inherit the properties of Employee class\n",
        "class FulltimeEmployee(Employee):\n",
        "    def __init__(self, name, family, salary, department):\n",
        "        super().__init__(name, family, salary, department)\n",
        "        self.fulltime = True  # Example attribute\n",
        "\n",
        "    def display_type(self):\n",
        "        print(\"This is a full-time employee.\")\n",
        "\n",
        "\n",
        "# Creating the instances of Fulltime Employee class and Employee class\n",
        "e1 = Employee(\"Abhi\", \"Byreddy\", 83000, \"Engineering\")\n",
        "e2 = FulltimeEmployee(\"Hari\", \"Nalla\", 97000, \"Digital Marketing\")\n",
        "e3 = FulltimeEmployee(\"Sai\", \"Palla\", 65000, \"HR\")\n",
        "\n",
        "# Call member functions\n",
        "e1.display_info()\n",
        "e2.display_info()\n",
        "e2.display_type()\n",
        "e3.display_info()\n",
        "\n",
        "\n",
        "print(\"Total employees:\", Employee.employee_count)\n",
        "\n",
        "\n",
        "print(\"Average salary:\", Employee.avg_salary())\n"
      ]
    },
    {
      "cell_type": "code",
      "execution_count": null,
      "metadata": {
        "id": "kVxX4hBZKXh4"
      },
      "outputs": [],
      "source": []
    }
  ],
  "metadata": {
    "colab": {
      "provenance": []
    },
    "kernelspec": {
      "display_name": "Python 3",
      "name": "python3"
    },
    "language_info": {
      "name": "python"
    }
  },
  "nbformat": 4,
  "nbformat_minor": 0
}
